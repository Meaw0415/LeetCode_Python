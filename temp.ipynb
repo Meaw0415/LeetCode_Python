{
 "cells": [
  {
   "cell_type": "code",
   "execution_count": 1,
   "metadata": {},
   "outputs": [],
   "source": [
    "class ListNode(object):\n",
    "    def __init__(self, val=0, next=None):\n",
    "        self.val = val\n",
    "        self.next = next\n",
    "\n",
    "n1 = ListNode(1)\n",
    "n2 = ListNode(2)\n",
    "n3 = ListNode(3)\n",
    "# n4 = ListNode(4)\n",
    "\n",
    "n1.next = n2\n",
    "n2.next = n3\n",
    "# n3.next = n4\n",
    "\n",
    "def printl(f1):\n",
    "    while f1 is not None:\n",
    "        print(f1.val)\n",
    "        f1 = f1.next\n",
    "def print_list(l):\n",
    "    for i in l:\n",
    "        print(i.val)"
   ]
  },
  {
   "cell_type": "code",
   "execution_count": 4,
   "metadata": {},
   "outputs": [],
   "source": [
    "def rotateRight(head, k=0):\n",
    "    \"\"\"\n",
    "    :type head: ListNode\n",
    "    :type k: int\n",
    "    :rtype: ListNode\n",
    "    \"\"\"\n",
    "    # Turn the list into cycle\n",
    "    tem_head = head\n",
    "    length = 0\n",
    "    while tem_head.next:\n",
    "        length += 1\n",
    "        tem_head = tem_head.next\n",
    "    tem_head.next = head\n",
    "    return length"
   ]
  },
  {
   "cell_type": "code",
   "execution_count": 5,
   "metadata": {},
   "outputs": [
    {
     "data": {
      "text/plain": [
       "2"
      ]
     },
     "execution_count": 5,
     "metadata": {},
     "output_type": "execute_result"
    }
   ],
   "source": [
    "rotateRight(n1)"
   ]
  },
  {
   "cell_type": "code",
   "execution_count": 4,
   "metadata": {},
   "outputs": [
    {
     "name": "stdout",
     "output_type": "stream",
     "text": [
      "5 5\n"
     ]
    }
   ],
   "source": [
    "a = 10\n",
    "b = 5\n",
    "\n",
    "def swap(a,b):\n",
    "        tmp = a\n",
    "        a = b\n",
    "        b = tmp\n",
    "        return a,b\n",
    "a,b = swap(a,b)\n",
    "print(a,b)\n"
   ]
  }
 ],
 "metadata": {
  "kernelspec": {
   "display_name": "base",
   "language": "python",
   "name": "python3"
  },
  "language_info": {
   "codemirror_mode": {
    "name": "ipython",
    "version": 3
   },
   "file_extension": ".py",
   "mimetype": "text/x-python",
   "name": "python",
   "nbconvert_exporter": "python",
   "pygments_lexer": "ipython3",
   "version": "3.7.0"
  },
  "orig_nbformat": 4,
  "vscode": {
   "interpreter": {
    "hash": "88279d2366fe020547cde40dd65aa0e3aa662a6ec1f3ca12d88834876c85e1a6"
   }
  }
 },
 "nbformat": 4,
 "nbformat_minor": 2
}
