{
 "cells": [
  {
   "cell_type": "code",
   "execution_count": 1,
   "metadata": {},
   "outputs": [
    {
     "name": "stdout",
     "output_type": "stream",
     "text": [
      "0 1\n",
      "0 2\n",
      "0 3\n",
      "1 2\n",
      "1 3\n",
      "2 3\n"
     ]
    }
   ],
   "source": [
    "a = [1,2,3,4]\n",
    "for id0,i in enumerate(a):\n",
    "    for id1 in range(id0+1,len(a)):\n",
    "        print(id0,id1)"
   ]
  },
  {
   "cell_type": "code",
   "execution_count": 28,
   "metadata": {},
   "outputs": [
    {
     "name": "stdout",
     "output_type": "stream",
     "text": [
      "[-966, -941, -922, -914, -912, -899, -887, -880, -865, -864, -858, -832, -816, -808, -806, -805, -802, -793, -763, -738, -734, -726, -705, -699, -696, -684, -670, -646, -645, -636, -614, -612, -603, -598, -580, -579, -571, -569, -564, -562, -521, -519, -493, -481, -471, -455, -442, -433, -431, -419, -415, -400, -399, -351, -343, -339, -335, -328, -325, -323, -311, -307, -300, -299, -296, -293, -257, -237, -228, -213, -174, -172, -163, -158, -152, -142, -121, -116, -101, -94, -82, -76, -69, -44, -42, -12, 18, 55, 62, 82, 97, 105, 114, 160, 169, 192, 235, 236, 242, 251, 279, 284, 285, 317, 321, 322, 327, 340, 364, 378, 384, 386, 392, 393, 411, 413, 417, 462, 477, 482, 483, 497, 511, 520, 525, 536, 551, 575, 579, 600, 601, 609, 612, 613, 633, 637, 646, 655, 661, 671, 685, 703, 708, 712, 713, 718, 729, 732, 747, 759, 766, 782, 794, 808, 812, 831, 835, 836, 853, 890, 899, 919, 928, 934, 971, 978]\n",
      "1621 31\n",
      "1626 31\n",
      "1639 31\n",
      "1663 31\n",
      "1677 31\n",
      "1683 31\n",
      "1685 31\n",
      "1691 31\n",
      "1692 31\n",
      "1710 31\n",
      "1712 31\n",
      "1716 31\n",
      "1761 31\n",
      "1776 31\n",
      "1781 31\n",
      "1782 31\n",
      "1796 31\n",
      "1810 31\n",
      "1819 31\n",
      "1824 31\n",
      "1835 31\n",
      "1850 31\n",
      "1874 31\n",
      "1878 31\n",
      "1899 31\n",
      "1900 31\n",
      "1908 31\n",
      "1911 31\n",
      "1912 31\n",
      "1932 31\n",
      "1936 31\n",
      "1945 31\n",
      "1954 31\n",
      "1960 31\n",
      "1970 31\n",
      "1984 31\n",
      "2002 31\n",
      "2007 31\n",
      "2011 31\n",
      "2012 31\n",
      "2017 31\n",
      "2028 31\n",
      "2031 31\n",
      "2046 31\n",
      "2058 31\n",
      "2065 31\n",
      "2081 31\n",
      "2093 31\n",
      "2107 31\n",
      "2111 31\n",
      "2130 31\n",
      "2134 31\n",
      "2135 31\n",
      "2152 31\n",
      "2189 31\n",
      "2182 29\n",
      "2191 29\n",
      "2154 27\n",
      "2174 27\n",
      "2183 27\n"
     ]
    },
    {
     "data": {
      "text/plain": [
       "(2191, [321, 899, 971])"
      ]
     },
     "execution_count": 28,
     "metadata": {},
     "output_type": "execute_result"
    }
   ],
   "source": [
    "def threeSumClosest(nums, target):\n",
    "        \"\"\"\n",
    "        :type nums: List[int]\n",
    "        :type target: int\n",
    "        :rtype: int\n",
    "        \"\"\"\n",
    "        nums.sort()\n",
    "        res =  99999\n",
    "        \n",
    "        print(nums)\n",
    "        for id,a in enumerate(nums):\n",
    "            if a > 321:\n",
    "                continue\n",
    "            # Prevent a from duplication\n",
    "            # b might be the same as a so we have to find previous a\n",
    "            id_b = id + 1\n",
    "            id_c = len(nums) - 1\n",
    "            while(id_c>id_b):\n",
    "                b = nums[id_b]\n",
    "                c = nums[id_c]\n",
    "                sum = a + b + c\n",
    "                if a == 321:\n",
    "                    print(sum,target-res)\n",
    "                # print(sum)\n",
    "                delta_res = abs(target-res)\n",
    "                delta_sum = abs(target-sum)\n",
    "                if sum == target:\n",
    "                    res = target\n",
    "                    return res\n",
    "                elif delta_sum < delta_res:\n",
    "                    res = sum\n",
    "                    resa = [a,b,c]\n",
    "                    \n",
    "                    if target > res :\n",
    "                        id_c -= 1\n",
    "                    else:\n",
    "                        id_b += 1\n",
    "                        # id_c -= 1\n",
    "                else:\n",
    "                    if target > res :\n",
    "                        id_b += 1\n",
    "                    else:\n",
    "                        id_c -= 1\n",
    "        return res,resa\n",
    "nums = [321,413,82,812,-646,-858,729,609,-339,483,-323,-399,-82,-455,18,661,890,-328,-311,520,-865,-174,55,685,-636,462,-172,-696,-296,-832,766,-808,-763,853,482,411,703,655,-793,-121,-726,105,-966,-471,612,551,-257,836,-94,-213,511,317,-293,279,-571,242,-519,386,-670,-806,-612,-433,-481,794,712,378,-325,-564,477,169,601,971,-300,-431,-152,285,-899,978,-419,708,536,-816,-335,284,384,-922,-941,633,934,497,-351,62,392,-493,-44,-400,646,-912,-864,835,713,-12,322,-228,340,-42,-307,-580,-802,-914,-142,575,-684,-415,718,-579,759,579,732,-645,525,114,-880,-603,-699,-101,-738,-887,327,192,747,-614,393,97,-569,160,782,-69,235,-598,-116,928,-805,-76,-521,671,417,600,-442,236,831,637,-562,613,-705,-158,-237,-299,808,-734,364,919,251,-163,-343,899]\n",
    "threeSumClosest(nums,2218)\n"
   ]
  },
  {
   "cell_type": "code",
   "execution_count": 14,
   "metadata": {},
   "outputs": [
    {
     "data": {
      "text/plain": [
       "[[321, 919, 978],\n",
       " [411, 836, 971],\n",
       " [482, 808, 928],\n",
       " [483, 836, 899],\n",
       " [497, 831, 890],\n",
       " [511, 729, 978],\n",
       " [511, 808, 899],\n",
       " [520, 808, 890],\n",
       " [525, 759, 934],\n",
       " [525, 794, 899],\n",
       " [551, 831, 836],\n",
       " [575, 808, 835],\n",
       " [575, 812, 831],\n",
       " [579, 661, 978],\n",
       " [579, 808, 831],\n",
       " [600, 782, 836],\n",
       " [601, 646, 971],\n",
       " [601, 718, 899],\n",
       " [601, 782, 835],\n",
       " [612, 794, 812],\n",
       " [613, 671, 934],\n",
       " [633, 732, 853],\n",
       " [655, 732, 831],\n",
       " [671, 712, 835],\n",
       " [712, 747, 759]]"
      ]
     },
     "execution_count": 14,
     "metadata": {},
     "output_type": "execute_result"
    }
   ],
   "source": [
    "def threeSum(nums):\n",
    "        \"\"\"\n",
    "        :type nums: List[int]\n",
    "        :rtype: List[List[int]]\n",
    "        \"\"\"\n",
    "        nums.sort()\n",
    "        res =  []\n",
    "        for id,a in enumerate(nums):\n",
    "            \n",
    "            # Prevent a from duplication\n",
    "            # b might be the same as a so we have to find previous a\n",
    "            if id >= 1 and a==nums[id-1]:\n",
    "                continue\n",
    "            id_b = id + 1\n",
    "            id_c = len(nums) - 1\n",
    "            while(id_c>id_b):\n",
    "                b = nums[id_b]\n",
    "                c = nums[id_c]\n",
    "                sum = a + b+ c\n",
    "                if sum ==2218:\n",
    "                    res.append([a,b,c])\n",
    "                    # Prevent b,c from duplication\n",
    "                    while(id_c>id_b and nums[id_b] == nums[id_b+1]):\n",
    "                        id_b += 1\n",
    "                        while(id_c>id_b and nums[id_c] == nums[id_c-1]):\n",
    "                            id_c -= 1\n",
    "                    # Still need to plus one because these are still previous ones\n",
    "                    id_b += 1\n",
    "                    id_c -= 1\n",
    "                elif sum<2219:\n",
    "                    id_b += 1\n",
    "                else:\n",
    "                    id_c -= 1\n",
    "        return res\n",
    "\n",
    "threeSum(nums)"
   ]
  }
 ],
 "metadata": {
  "kernelspec": {
   "display_name": "base",
   "language": "python",
   "name": "python3"
  },
  "language_info": {
   "codemirror_mode": {
    "name": "ipython",
    "version": 3
   },
   "file_extension": ".py",
   "mimetype": "text/x-python",
   "name": "python",
   "nbconvert_exporter": "python",
   "pygments_lexer": "ipython3",
   "version": "3.7.0 (default, Jun 28 2018, 08:04:48) [MSC v.1912 64 bit (AMD64)]"
  },
  "orig_nbformat": 4,
  "vscode": {
   "interpreter": {
    "hash": "88279d2366fe020547cde40dd65aa0e3aa662a6ec1f3ca12d88834876c85e1a6"
   }
  }
 },
 "nbformat": 4,
 "nbformat_minor": 2
}
