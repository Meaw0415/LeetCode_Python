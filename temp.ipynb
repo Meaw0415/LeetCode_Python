{
 "cells": [
  {
   "cell_type": "code",
   "execution_count": 72,
   "metadata": {},
   "outputs": [],
   "source": [
    "class ListNode(object):\n",
    "    def __init__(self, val=0, next=None):\n",
    "        self.val = val\n",
    "        self.next = next\n",
    "\n",
    "n1 = ListNode(1)\n",
    "n2 = ListNode(2)\n",
    "n3 = ListNode(3)\n",
    "# n4 = ListNode(4)\n",
    "\n",
    "n1.next = n2\n",
    "n2.next = n3\n",
    "# n3.next = n4\n",
    "def printl(f1):\n",
    "    while f1 is not None:\n",
    "        print(f1.val)\n",
    "        f1 = f1.next\n",
    "def print_list(l):\n",
    "    for i in l:\n",
    "        print(i.val)"
   ]
  },
  {
   "cell_type": "code",
   "execution_count": 73,
   "metadata": {},
   "outputs": [
    {
     "name": "stdout",
     "output_type": "stream",
     "text": [
      "1\n",
      "2\n",
      "3\n"
     ]
    }
   ],
   "source": [
    "h1 = n1\n",
    "while h1 is not None:\n",
    "    print(h1.val)\n",
    "    h1 = h1.next"
   ]
  },
  {
   "cell_type": "code",
   "execution_count": 74,
   "metadata": {},
   "outputs": [
    {
     "name": "stdout",
     "output_type": "stream",
     "text": [
      "1 1\n",
      "2 2\n"
     ]
    }
   ],
   "source": [
    "def swapPairs(head):\n",
    "        \"\"\"\n",
    "        :type head: ListNode\n",
    "        :rtype: ListNode\n",
    "        \"\"\"\n",
    "        if head is None or head.next is None:\n",
    "            return head\n",
    "        \n",
    "        start = head\n",
    "        fir_list = []\n",
    "        sec_list = []\n",
    "        while start is not None and start.next is not None:\n",
    "            fir = start\n",
    "            sec = start.next\n",
    "\n",
    "            fir_list.append(fir)\n",
    "            sec_list.append(sec)\n",
    "            # Transverse to the next pair\n",
    "            start = start.next.next\n",
    "        print(len(fir_list),len(sec_list))\n",
    "        if start is not None and start.next is None:\n",
    "            fir_list.append(start)\n",
    "        else:\n",
    "            sec_list.append(None)\n",
    "        print(len(fir_list),len(sec_list))\n",
    "        for id,sec in enumerate(sec_list[:-1]):\n",
    "            sec.next = fir_list[id]\n",
    "            fir_list[id].next = sec_list[id+1]\n",
    "\n",
    "        return sec_list[0]\n",
    "\n",
    "f1 = swapPairs(n1)\n"
   ]
  },
  {
   "cell_type": "code",
   "execution_count": 75,
   "metadata": {},
   "outputs": [
    {
     "name": "stdout",
     "output_type": "stream",
     "text": [
      "2\n",
      "1\n"
     ]
    }
   ],
   "source": [
    "printl(f1)\n",
    "\n",
    "\n"
   ]
  }
 ],
 "metadata": {
  "kernelspec": {
   "display_name": "Python 3",
   "language": "python",
   "name": "python3"
  },
  "language_info": {
   "codemirror_mode": {
    "name": "ipython",
    "version": 3
   },
   "file_extension": ".py",
   "mimetype": "text/x-python",
   "name": "python",
   "nbconvert_exporter": "python",
   "pygments_lexer": "ipython3",
   "version": "3.10.1"
  },
  "orig_nbformat": 4,
  "vscode": {
   "interpreter": {
    "hash": "876db7d3f8682b7e4c5477e5f1e2dc2bd1b19fe05d9aabd59218369070754b39"
   }
  }
 },
 "nbformat": 4,
 "nbformat_minor": 2
}
