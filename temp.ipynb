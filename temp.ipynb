{
 "cells": [
  {
   "cell_type": "code",
   "execution_count": 1,
   "metadata": {},
   "outputs": [
    {
     "name": "stdout",
     "output_type": "stream",
     "text": [
      "0 1\n",
      "0 2\n",
      "0 3\n",
      "1 2\n",
      "1 3\n",
      "2 3\n"
     ]
    }
   ],
   "source": [
    "a = [1,2,3,4]\n",
    "for id0,i in enumerate(a):\n",
    "    for id1 in range(id0+1,len(a)):\n",
    "        print(id0,id1)"
   ]
  },
  {
   "cell_type": "code",
   "execution_count": 7,
   "metadata": {},
   "outputs": [
    {
     "name": "stdout",
     "output_type": "stream",
     "text": [
      "-4\n",
      "5 1\n",
      "5 2\n",
      "5 3\n",
      "5 4\n",
      "-1\n",
      "5 2\n",
      "4 3\n",
      "-1\n",
      "5 3\n",
      "4 3\n",
      "0\n",
      "5 4\n",
      "1\n"
     ]
    },
    {
     "data": {
      "text/plain": [
       "[[-1, -1, 2], [-1, 0, 1], [-1, 0, 1]]"
      ]
     },
     "execution_count": 7,
     "metadata": {},
     "output_type": "execute_result"
    }
   ],
   "source": [
    "def threeSum(nums):\n",
    "        \"\"\"\n",
    "        :type nums: List[int]\n",
    "        :rtype: List[List[int]]\n",
    "        \"\"\"\n",
    "        nums.sort()\n",
    "        # print(nums)\n",
    "        res =  []\n",
    "        for id,a in enumerate(nums):\n",
    "            if a>0:\n",
    "                break\n",
    "            id_b = id + 1\n",
    "            id_c = len(nums) - 1\n",
    "            while(id_c>id_b):\n",
    "                b = nums[id_b]\n",
    "                c = nums[id_c]\n",
    "                sum = a + b+ c\n",
    "                if sum ==0:\n",
    "                    res.append([a,b,c])\n",
    "                    while(id_c>id_b and nums[id_b] == nums[id_b+1]):\n",
    "                        id_b += 1\n",
    "                        while(id_c>id_b and nums[id_c] == nums[id_c-1]):\n",
    "                            id_c -= 1\n",
    "                    # Need to find new pair because still the old ones\n",
    "                    id_b += 1\n",
    "                    id_c -= 1\n",
    "                elif sum<0:\n",
    "                    id_b += 1\n",
    "                else:\n",
    "                    id_c -= 1\n",
    "        return res\n",
    "nums = [-1,0,1,2,-1,-4]\n",
    "\n",
    "threeSum(nums)\n"
   ]
  },
  {
   "cell_type": "code",
   "execution_count": 9,
   "metadata": {},
   "outputs": [
    {
     "data": {
      "text/plain": [
       "[1, 2, 2]"
      ]
     },
     "execution_count": 9,
     "metadata": {},
     "output_type": "execute_result"
    }
   ],
   "source": [
    "b = [2 if i>1 else i for i in a  ]\n",
    "\n",
    "b"
   ]
  }
 ],
 "metadata": {
  "kernelspec": {
   "display_name": "base",
   "language": "python",
   "name": "python3"
  },
  "language_info": {
   "codemirror_mode": {
    "name": "ipython",
    "version": 3
   },
   "file_extension": ".py",
   "mimetype": "text/x-python",
   "name": "python",
   "nbconvert_exporter": "python",
   "pygments_lexer": "ipython3",
   "version": "3.7.0"
  },
  "orig_nbformat": 4,
  "vscode": {
   "interpreter": {
    "hash": "88279d2366fe020547cde40dd65aa0e3aa662a6ec1f3ca12d88834876c85e1a6"
   }
  }
 },
 "nbformat": 4,
 "nbformat_minor": 2
}
