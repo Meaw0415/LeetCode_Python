{
 "cells": [
  {
   "cell_type": "code",
   "execution_count": 1,
   "metadata": {},
   "outputs": [
    {
     "name": "stdout",
     "output_type": "stream",
     "text": [
      "0 1\n",
      "0 2\n",
      "0 3\n",
      "1 2\n",
      "1 3\n",
      "2 3\n"
     ]
    }
   ],
   "source": [
    "a = [1,2,3,4]\n",
    "for id0,i in enumerate(a):\n",
    "    for id1 in range(id0+1,len(a)):\n",
    "        print(id0,id1)"
   ]
  },
  {
   "cell_type": "code",
   "execution_count": 48,
   "metadata": {},
   "outputs": [
    {
     "name": "stdout",
     "output_type": "stream",
     "text": [
      "0 2\n",
      "2 2\n",
      "2 3\n",
      "2 3\n"
     ]
    },
    {
     "data": {
      "text/plain": [
       "2"
      ]
     },
     "execution_count": 48,
     "metadata": {},
     "output_type": "execute_result"
    }
   ],
   "source": [
    "def lengthOfLongestSubstring(s):\n",
    "    \n",
    "        \"\"\"\n",
    "        :type s: str\n",
    "        :rtype: int\n",
    "        \"\"\"\n",
    "        res = []\n",
    "        ht = dict()\n",
    "        end = 0\n",
    "        start = 0\n",
    "        while(end<len(s)):\n",
    "            \n",
    "            symbol = s[end]\n",
    "            if symbol in ht:\n",
    "                start = start if start> ht[symbol] + 1 else ht[symbol] + 1\n",
    "                ht[symbol] = end\n",
    "                # res.append(end - start + 1)\n",
    "            else:\n",
    "                ht[symbol] = end\n",
    "            res.append(end - start + 1)\n",
    "            end += 1\n",
    "            \n",
    "        return max(res)\n",
    "\n",
    "lengthOfLongestSubstring(\"abba\")\n",
    "\n"
   ]
  },
  {
   "cell_type": "code",
   "execution_count": 14,
   "metadata": {},
   "outputs": [
    {
     "data": {
      "text/plain": [
       "[[321, 919, 978],\n",
       " [411, 836, 971],\n",
       " [482, 808, 928],\n",
       " [483, 836, 899],\n",
       " [497, 831, 890],\n",
       " [511, 729, 978],\n",
       " [511, 808, 899],\n",
       " [520, 808, 890],\n",
       " [525, 759, 934],\n",
       " [525, 794, 899],\n",
       " [551, 831, 836],\n",
       " [575, 808, 835],\n",
       " [575, 812, 831],\n",
       " [579, 661, 978],\n",
       " [579, 808, 831],\n",
       " [600, 782, 836],\n",
       " [601, 646, 971],\n",
       " [601, 718, 899],\n",
       " [601, 782, 835],\n",
       " [612, 794, 812],\n",
       " [613, 671, 934],\n",
       " [633, 732, 853],\n",
       " [655, 732, 831],\n",
       " [671, 712, 835],\n",
       " [712, 747, 759]]"
      ]
     },
     "execution_count": 14,
     "metadata": {},
     "output_type": "execute_result"
    }
   ],
   "source": [
    "def threeSum(nums):\n",
    "        \"\"\"\n",
    "        :type nums: List[int]\n",
    "        :rtype: List[List[int]]\n",
    "        \"\"\"\n",
    "        nums.sort()\n",
    "        res =  []\n",
    "        for id,a in enumerate(nums):\n",
    "            \n",
    "            # Prevent a from duplication\n",
    "            # b might be the same as a so we have to find previous a\n",
    "            if id >= 1 and a==nums[id-1]:\n",
    "                continue\n",
    "            id_b = id + 1\n",
    "            id_c = len(nums) - 1\n",
    "            while(id_c>id_b):\n",
    "                b = nums[id_b]\n",
    "                c = nums[id_c]\n",
    "                sum = a + b+ c\n",
    "                if sum ==2218:\n",
    "                    res.append([a,b,c])\n",
    "                    # Prevent b,c from duplication\n",
    "                    while(id_c>id_b and nums[id_b] == nums[id_b+1]):\n",
    "                        id_b += 1\n",
    "                        while(id_c>id_b and nums[id_c] == nums[id_c-1]):\n",
    "                            id_c -= 1\n",
    "                    # Still need to plus one because these are still previous ones\n",
    "                    id_b += 1\n",
    "                    id_c -= 1\n",
    "                elif sum<2219:\n",
    "                    id_b += 1\n",
    "                else:\n",
    "                    id_c -= 1\n",
    "        return res\n",
    "\n",
    "threeSum(nums)"
   ]
  }
 ],
 "metadata": {
  "kernelspec": {
   "display_name": "base",
   "language": "python",
   "name": "python3"
  },
  "language_info": {
   "codemirror_mode": {
    "name": "ipython",
    "version": 3
   },
   "file_extension": ".py",
   "mimetype": "text/x-python",
   "name": "python",
   "nbconvert_exporter": "python",
   "pygments_lexer": "ipython3",
   "version": "3.7.0"
  },
  "orig_nbformat": 4,
  "vscode": {
   "interpreter": {
    "hash": "88279d2366fe020547cde40dd65aa0e3aa662a6ec1f3ca12d88834876c85e1a6"
   }
  }
 },
 "nbformat": 4,
 "nbformat_minor": 2
}
